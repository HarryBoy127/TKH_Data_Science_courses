{
 "cells": [
  {
   "cell_type": "code",
   "execution_count": 1,
   "metadata": {},
   "outputs": [],
   "source": [
    "import numpy as np\n",
    "import statsmodels as stats\n",
    "import matplotlib.pyplot as plt\n",
    "import pandas as pd\n",
    "\n"
   ]
  },
  {
   "cell_type": "code",
   "execution_count": 2,
   "metadata": {},
   "outputs": [],
   "source": [
    "# Generate 2 pairs of 20 datapoints\n",
    "# np.random.normal generates on the following parameters (mean, scale, size of array)\n",
    "# We are making (2, 20) array of data which is 2 columns of 20 datapoints\n",
    "\n",
    "data = np.random.normal(0, 1, (2,20))\n",
    "\n"
   ]
  },
  {
   "cell_type": "code",
   "execution_count": 3,
   "metadata": {},
   "outputs": [
    {
     "data": {
      "text/plain": [
       "array([[-0.45604269, -0.662828  , -0.22131181, -0.64318235,  0.15470092,\n",
       "         0.7357306 ,  0.59465628, -1.04159021,  1.19952596, -0.71165091,\n",
       "        -0.87672977, -1.79881914,  1.2867286 , -0.87003262,  1.41417893,\n",
       "         0.10459209,  0.63008832, -0.76012065,  0.81762231,  1.14731714],\n",
       "       [-0.44823663, -0.6374214 ,  0.15125163,  1.06203778,  0.69593127,\n",
       "         1.0653303 , -1.10612138,  2.26728227, -0.66587844,  0.22072851,\n",
       "        -2.0129036 ,  0.14610937,  0.85277317, -1.46842782, -0.11631316,\n",
       "         1.59580154, -2.28784837,  1.04170623, -0.01445605, -0.80366516]])"
      ]
     },
     "execution_count": 3,
     "metadata": {},
     "output_type": "execute_result"
    }
   ],
   "source": [
    "# see what the arrays look like\n",
    "# it should be an array that is a list of lists\n",
    "\n",
    "data"
   ]
  },
  {
   "cell_type": "code",
   "execution_count": 9,
   "metadata": {},
   "outputs": [
    {
     "data": {
      "image/png": "[encoded data removed]",
      "text/plain": [
       "<Figure size 640x480 with 1 Axes>"
      ]
     },
     "metadata": {},
     "output_type": "display_data"
    }
   ],
   "source": [
    "# Plot the data using plt.scatter()\n",
    "# Hint: you may need to index the data array!\n",
    "\n",
    "plt.scatter(2, 20)\n",
    "plt.show()"
   ]
  },
  {
   "cell_type": "code",
   "execution_count": 18,
   "metadata": {},
   "outputs": [],
   "source": [
    "# define our x and y using the 2 columns of data \n",
    "x = data [0]\n",
    "y = data [1]"
   ]
  },
  {
   "cell_type": "code",
   "execution_count": 14,
   "metadata": {},
   "outputs": [],
   "source": [
    "# do all the necessary calculations to get the correlation coefficient\n",
    "# use either numpy or statistics package\n",
    "# we will leave you to do it on your own and find your own way\n",
    "\n",
    "# Here are some ideas for what you might want to use but these are not the only way!\n",
    "# np.sqrt()\n",
    "# np.mean()\n",
    "# sum()\n",
    "# for loops\n",
    "# range()"
   ]
  },
  {
   "cell_type": "code",
   "execution_count": 19,
   "metadata": {},
   "outputs": [
    {
     "data": {
      "text/html": [
       "<div>\n",
       "<style scoped>\n",
       "    .dataframe tbody tr th:only-of-type {\n",
       "        vertical-align: middle;\n",
       "    }\n",
       "\n",
       "    .dataframe tbody tr th {\n",
       "        vertical-align: top;\n",
       "    }\n",
       "\n",
       "    .dataframe thead th {\n",
       "        text-align: right;\n",
       "    }\n",
       "</style>\n",
       "<table border=\"1\" class=\"dataframe\">\n",
       "  <thead>\n",
       "    <tr style=\"text-align: right;\">\n",
       "      <th></th>\n",
       "      <th>col_1</th>\n",
       "      <th>col_2</th>\n",
       "    </tr>\n",
       "  </thead>\n",
       "  <tbody>\n",
       "    <tr>\n",
       "      <th>0</th>\n",
       "      <td>-0.456043</td>\n",
       "      <td>-0.448237</td>\n",
       "    </tr>\n",
       "    <tr>\n",
       "      <th>1</th>\n",
       "      <td>-0.662828</td>\n",
       "      <td>-0.637421</td>\n",
       "    </tr>\n",
       "    <tr>\n",
       "      <th>2</th>\n",
       "      <td>-0.221312</td>\n",
       "      <td>0.151252</td>\n",
       "    </tr>\n",
       "    <tr>\n",
       "      <th>3</th>\n",
       "      <td>-0.643182</td>\n",
       "      <td>1.062038</td>\n",
       "    </tr>\n",
       "    <tr>\n",
       "      <th>4</th>\n",
       "      <td>0.154701</td>\n",
       "      <td>0.695931</td>\n",
       "    </tr>\n",
       "  </tbody>\n",
       "</table>\n",
       "</div>"
      ],
      "text/plain": [
       "      col_1     col_2\n",
       "0 -0.456043 -0.448237\n",
       "1 -0.662828 -0.637421\n",
       "2 -0.221312  0.151252\n",
       "3 -0.643182  1.062038\n",
       "4  0.154701  0.695931"
      ]
     },
     "execution_count": 19,
     "metadata": {},
     "output_type": "execute_result"
    }
   ],
   "source": [
    "### Now do it in pandas\n",
    "## We will create the dataframe for you, but pay close attention to how\n",
    "df = pd.DataFrame({'col_1': data[0], 'col_2': data[1]})\n",
    "df.head()"
   ]
  },
  {
   "cell_type": "code",
   "execution_count": 21,
   "metadata": {},
   "outputs": [
    {
     "data": {
      "image/png": "[encoded data removed]",
      "text/plain": [
       "<Figure size 640x480 with 1 Axes>"
      ]
     },
     "metadata": {},
     "output_type": "display_data"
    }
   ],
   "source": [
    "## When plotting a scatterplot, we just choose the name of the columns\n",
    "## Since these are not variables, make sure to write column names as strings\n",
    "\n",
    "df.plot(x= 'col_1', y='col_2', kind='scatter');"
   ]
  },
  {
   "cell_type": "code",
   "execution_count": 22,
   "metadata": {},
   "outputs": [
    {
     "data": {
      "text/html": [
       "<div>\n",
       "<style scoped>\n",
       "    .dataframe tbody tr th:only-of-type {\n",
       "        vertical-align: middle;\n",
       "    }\n",
       "\n",
       "    .dataframe tbody tr th {\n",
       "        vertical-align: top;\n",
       "    }\n",
       "\n",
       "    .dataframe thead th {\n",
       "        text-align: right;\n",
       "    }\n",
       "</style>\n",
       "<table border=\"1\" class=\"dataframe\">\n",
       "  <thead>\n",
       "    <tr style=\"text-align: right;\">\n",
       "      <th></th>\n",
       "      <th>col_1</th>\n",
       "      <th>col_2</th>\n",
       "    </tr>\n",
       "  </thead>\n",
       "  <tbody>\n",
       "    <tr>\n",
       "      <th>col_1</th>\n",
       "      <td>1.0000</td>\n",
       "      <td>-0.1174</td>\n",
       "    </tr>\n",
       "    <tr>\n",
       "      <th>col_2</th>\n",
       "      <td>-0.1174</td>\n",
       "      <td>1.0000</td>\n",
       "    </tr>\n",
       "  </tbody>\n",
       "</table>\n",
       "</div>"
      ],
      "text/plain": [
       "        col_1   col_2\n",
       "col_1  1.0000 -0.1174\n",
       "col_2 -0.1174  1.0000"
      ]
     },
     "execution_count": 22,
     "metadata": {},
     "output_type": "execute_result"
    }
   ],
   "source": [
    "# we will use the df.corr() function\n",
    "# it compares the correlaton of each column to other columns\n",
    "# column1 will always have 1.0 correlation to itself (top left, [0,0])\n",
    "# column2 will always have 1.0 correlation to iteself (bottom right, [1,1])\n",
    "\n",
    "\n",
    "## Did you do the math right? Does your correlation match this correlation?\n",
    "\n",
    "df.corr()"
   ]
  },
  {
   "cell_type": "markdown",
   "metadata": {},
   "source": []
  }
 ],
 "metadata": {
  "kernelspec": {
   "display_name": "base",
   "language": "python",
   "name": "python3"
  },
  "language_info": {
   "codemirror_mode": {
    "name": "ipython",
    "version": 3
   },
   "file_extension": ".py",
   "mimetype": "text/x-python",
   "name": "python",
   "nbconvert_exporter": "python",
   "pygments_lexer": "ipython3",
   "version": "3.9.18"
  },
  "orig_nbformat": 4
 },
 "nbformat": 4,
 "nbformat_minor": 2
}
