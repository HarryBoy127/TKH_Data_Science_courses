{
 "cells": [
  {
   "cell_type": "markdown",
   "metadata": {},
   "source": [
    "# Review"
   ]
  },
  {
   "cell_type": "code",
   "execution_count": 112,
   "metadata": {},
   "outputs": [
    {
     "ename": "SyntaxError",
     "evalue": "invalid syntax (1897560884.py, line 13)",
     "output_type": "error",
     "traceback": [
      "\u001b[1;36m  Cell \u001b[1;32mIn[112], line 13\u001b[1;36m\u001b[0m\n\u001b[1;33m    if self.hp < 0 print \"you are dead\"\u001b[0m\n\u001b[1;37m                   ^\u001b[0m\n\u001b[1;31mSyntaxError\u001b[0m\u001b[1;31m:\u001b[0m invalid syntax\n"
     ]
    }
   ],
   "source": [
    "class Pokemon:\n",
    "    def __init__(self, name, hp, ap):\n",
    "        self.name = name\n",
    "        self.hp = hp\n",
    "        self.ap = ap\n",
    "    \n",
    "    def attack(self, other):\n",
    "        other.hp -= self.ap\n",
    "    def heal (self):\n",
    "        self.hp += self.ap\n",
    "        print (\"current \")\n",
    "\n",
    "\n",
    "pokA = Pokemon(\"charmander\", 100, 20)\n",
    "pokB = Pokemon(\"squirtle\", 100, 30)\n",
    "pokC = Pokemon(\"bulbasaur\", 100, 26)"
   ]
  },
  {
   "cell_type": "code",
   "execution_count": 4,
   "metadata": {},
   "outputs": [],
   "source": [
    "# what are the attributes of this class?\n"
   ]
  },
  {
   "cell_type": "code",
   "execution_count": 5,
   "metadata": {},
   "outputs": [],
   "source": [
    "# what are the methods of this class?\n"
   ]
  },
  {
   "cell_type": "code",
   "execution_count": 120,
   "metadata": {},
   "outputs": [
    {
     "name": "stdout",
     "output_type": "stream",
     "text": [
      "120\n",
      "0\n",
      "100\n"
     ]
    }
   ],
   "source": [
    "# what will be the result of the following code?\n",
    "\n",
    "pokA.attack(pokB)\n",
    "\n",
    "print(pokA.hp)\n",
    "print(pokB.hp)\n",
    "print(pokC.hp)"
   ]
  },
  {
   "cell_type": "code",
   "execution_count": 121,
   "metadata": {},
   "outputs": [
    {
     "name": "stdout",
     "output_type": "stream",
     "text": [
      "Squirtel is dead\n"
     ]
    }
   ],
   "source": [
    "if pokA.hp <=0: \n",
    "    print (\" Charmender is dead\")\n",
    "elif pokB.hp <= 0: \n",
    "    print (\"Squirtel is dead\")\n",
    "elif pokC.hp <= 0:\n",
    "    print (\"Bulbasaur is dead\")\n",
    "else: \n",
    "    print(\"Next Round\")"
   ]
  },
  {
   "cell_type": "code",
   "execution_count": 111,
   "metadata": {},
   "outputs": [
    {
     "name": "stdout",
     "output_type": "stream",
     "text": [
      "current \n",
      "<__main__.Pokemon object at 0x00000282AFAACB20>\n"
     ]
    }
   ],
   "source": [
    "# how can I create a 3rd Pokemon object ‘pokC’ with name “bulbasaur”, health 80, and attack 30.\n",
    "\n",
    "pokA.heal()\n",
    "print(pokA)"
   ]
  }
 ],
 "metadata": {
  "kernelspec": {
   "display_name": "phase1",
   "language": "python",
   "name": "python3"
  },
  "language_info": {
   "codemirror_mode": {
    "name": "ipython",
    "version": 3
   },
   "file_extension": ".py",
   "mimetype": "text/x-python",
   "name": "python",
   "nbconvert_exporter": "python",
   "pygments_lexer": "ipython3",
   "version": "3.9.18"
  }
 },
 "nbformat": 4,
 "nbformat_minor": 2
}
