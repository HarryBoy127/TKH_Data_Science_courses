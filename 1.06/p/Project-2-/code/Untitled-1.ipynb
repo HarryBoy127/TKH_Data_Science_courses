{
 "cells": [
  {
   "cell_type": "code",
   "execution_count": 1,
   "metadata": {},
   "outputs": [],
   "source": [
    "import csv\n",
    "\n",
    "import time\n",
    "from datetime import datetime\n",
    "\n",
    "\n",
    "class StockData:\n",
    "    def __init__(self, path):\n",
    "        self.path = path\n",
    "        self.data = None\n",
    "\n",
    "    def load(self):\n",
    "        \"\"\"A function to assing the csv dataset to a list of lists.\n",
    "        Does not include headers.\n",
    "\n",
    "        All data is expected to be a string\n",
    "        \"\"\"\n",
    "        # to keep us in compliance with EU standards, we must log the datetime\n",
    "        # of all data loads\n",
    "        epoch = time.time()\n",
    "        self._date = datetime.utcfromtimestamp(epoch).\\\n",
    "            strftime('%Y-%m-%d %H:%M:%S')\n",
    "        print(\"DATA LOADED AT\", self._date)\n",
    "\n",
    "        # open data using csv reader\n",
    "        with open(self.path, newline='') as file:\n",
    "            reader = csv.reader(file)\n",
    "            # skip header row\n",
    "            next(reader, None)\n",
    "            # append list of strings into list\n",
    "            self.data = []\n",
    "            for row in reader:\n",
    "                self.data.append(row)"
   ]
  }
 ],
 "metadata": {
  "kernelspec": {
   "display_name": "phase1",
   "language": "python",
   "name": "python3"
  },
  "language_info": {
   "codemirror_mode": {
    "name": "ipython",
    "version": 3
   },
   "file_extension": ".py",
   "mimetype": "text/x-python",
   "name": "python",
   "nbconvert_exporter": "python",
   "pygments_lexer": "ipython3",
   "version": "3.9.18"
  }
 },
 "nbformat": 4,
 "nbformat_minor": 2
}
